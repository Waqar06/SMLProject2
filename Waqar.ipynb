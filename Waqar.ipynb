{
 "cells": [
  {
   "cell_type": "markdown",
   "metadata": {},
   "source": [
    "# COMP90051 Project 2\n",
    "**Name:** *enter your name here*\n",
    "\n",
    "**Student ID:** *your id here*"
   ]
  },
  {
   "cell_type": "code",
   "execution_count": 31,
   "metadata": {},
   "outputs": [],
   "source": [
    "# You can add additional imports here\n",
    "import numpy as np\n",
    "from matplotlib import pyplot as plt\n",
    "import os\n",
    "import random\n",
    "from sklearn.model_selection import train_test_split\n",
    "from collections import defaultdict\n",
    "# Additional imports\n",
    "from sklearn.linear_model import LogisticRegression\n",
    "from sklearn import metrics\n",
    "from sklearn.metrics import roc_auc_score\n",
    "from sklearn.metrics import recall_score\n",
    "from sklearn.metrics import precision_score\n",
    "from sklearn.metrics import accuracy_score\n",
    "from sklearn.metrics import confusion_matrix\n",
    "from sklearn.model_selection import cross_val_score\n",
    "from sklearn.model_selection import RepeatedStratifiedKFold\n",
    "from numpy import mean\n",
    "from numpy import std\n",
    "import time\n"
   ]
  },
  {
   "cell_type": "markdown",
   "metadata": {},
   "source": [
    "## 0. Loading the dataset"
   ]
  },
  {
   "cell_type": "code",
   "execution_count": 113,
   "metadata": {},
   "outputs": [],
   "source": [
    "# do not edit this cell\n",
    "# load the data files (download from the LMS)\n",
    "embedded_images = np.load('images.npy')\n",
    "labels = np.load('labels.npy')\n",
    "\n",
    "# split into pool & testing\n",
    "X_pool, X_test, y_pool, y_test = train_test_split(embedded_images, labels, \n",
    "                                                  test_size=0.5, random_state=1234, shuffle=True)\n",
    "\n",
    "# sample a seed set\n",
    "np.random.seed(1234)\n",
    "label2id = defaultdict(list)\n",
    "for i, label in enumerate(y_pool):\n",
    "    label2id[label].append(i)\n",
    "seed_set = []\n",
    "for label, ids in label2id.items():\n",
    "    seed_set.extend(np.random.choice(ids, size=10, replace=False))"
   ]
  },
  {
   "cell_type": "code",
   "execution_count": 52,
   "metadata": {},
   "outputs": [],
   "source": [
    "#Helper Function\n",
    "# 1 - Convert Ids to Labels of Seedset  \n",
    "def id2label(seed_id,ListLabel):\n",
    "    seed_set_label = []\n",
    "    for label, ids in ListLabel.items():\n",
    "        for seedid in seed_id:\n",
    "            if seedid in ids:\n",
    "                seed_set_label.append(label)  \n",
    "    return seed_set_label\n",
    "# 2 - Print Accuracy Score Of Model  \n",
    "def printAccuracyScore(modelName,score):\n",
    "    print(modelName, \"Accuracy: {}\".format(score))\n",
    "    \n",
    "    "
   ]
  },
  {
   "cell_type": "markdown",
   "metadata": {},
   "source": [
    "## 1. Applying logistic regression"
   ]
  },
  {
   "cell_type": "code",
   "execution_count": 53,
   "metadata": {},
   "outputs": [],
   "source": [
    "def train_logistic_regression(X, y, **args):\n",
    "    \"\"\"\n",
    "    Train a logistic regression model on dataset (X, y) and return trained model.\n",
    "    X: matrix of real values, size n x d\n",
    "    y: vector of string labels, size n\n",
    "    args: optional arguments e.g., for hyper-parameters\n",
    "    \"\"\"\n",
    "    # your code here\n",
    "    # run logistic regression model\n",
    "    # NOTE = Find Best parameters  #Best: 0.302222 using {'C': 0.01, 'penalty': 'l2', 'solver': 'lbfgs'}\n",
    "    start = time.time()\n",
    "    \n",
    "    log_reg = LogisticRegression(multi_class='multinomial',C=0.01,penalty='l2',solver='lbfgs')\n",
    "    model = log_reg.fit(X, y)\n",
    "\n",
    "    stop = time.time()\n",
    "    print(f\"Training time: {stop - start}s\")\n",
    "\n",
    "    return model\n"
   ]
  },
  {
   "cell_type": "code",
   "execution_count": 54,
   "metadata": {},
   "outputs": [],
   "source": [
    "def evaluate_logistic_regression_accuracy(Xt, yt, model):\n",
    "    \"\"\"\n",
    "    Apply logistic regression prediction on dataset Xt and evaluate accuracy against yt,\n",
    "    returing the accuracy results as a scalar.\n",
    "    Xt: matrix of real values, size m x d\n",
    "    yt: vector of string labels, size m\n",
    "    \"\"\"\n",
    "    # your code here\n",
    "    y_pred = model.predict(Xt)\n",
    "    score = accuracy_score(yt, y_pred)\n",
    "    #print(\"Accuracy: {}\".format(accuracy_score(yt, y_pred)))\n",
    "    return score\n",
    "\n",
    "  "
   ]
  },
  {
   "cell_type": "code",
   "execution_count": 60,
   "metadata": {},
   "outputs": [
    {
     "output_type": "stream",
     "name": "stderr",
     "text": [
      "C:\\Users\\Waqar\\Anaconda3\\lib\\site-packages\\sklearn\\linear_model\\logistic.py:947: ConvergenceWarning: lbfgs failed to converge. Increase the number of iterations.\n",
      "  \"of iterations.\", ConvergenceWarning)\n",
      "Training time: 0.7753183841705322s\n",
      "model_subset Accuracy: 0.31732365145228214\n",
      "\n",
      "\n",
      "Training time: 9.323550701141357s\n",
      "model_max_pool Accuracy: 0.5675311203319502\n",
      "C:\\Users\\Waqar\\Anaconda3\\lib\\site-packages\\sklearn\\linear_model\\logistic.py:947: ConvergenceWarning: lbfgs failed to converge. Increase the number of iterations.\n",
      "  \"of iterations.\", ConvergenceWarning)\n"
     ]
    }
   ],
   "source": [
    "# your code here for training, evaluating & plotting results\n",
    "\n",
    "# Traning and Evaluation of Model (model_subset) with Subest of y_pool.\n",
    "#seed_set_label = id2label(seed_set,label2id)\n",
    "model_subset = train_logistic_regression(X_pool[seed_set],y_pool[seed_set])\n",
    "score_model_subset = evaluate_logistic_regression_accuracy(X_test,y_test,model_subset)\n",
    "#print(\"model_subset Accuracy: {}\".format(score_model_subset))\n",
    "printAccuracyScore(\"model_subset\",score_model_subset)\n",
    "print(\"\\n\")\n",
    "\n",
    "# Traning and Evaluation of  Model (model_max_pool) with Max Pool \n",
    "model_max_pool = train_logistic_regression(X_pool,y_pool)\n",
    "score_model_max_pool = evaluate_logistic_regression_accuracy(X_test,y_test,model_max_pool)\n",
    "printAccuracyScore(\"model_max_pool\",score_model_max_pool)\n",
    "# Evaluation Report \n",
    "\n",
    "\n"
   ]
  },
  {
   "cell_type": "markdown",
   "metadata": {},
   "source": [
    "## 2. Active learning framework with Random selection"
   ]
  },
  {
   "cell_type": "code",
   "execution_count": 56,
   "metadata": {},
   "outputs": [],
   "source": [
    "def random_select(X, model, **args):\n",
    "    \"\"\"\n",
    "    Given an unlabelled dataset X, a matrix of n x d, and a model (not used)\n",
    "    returns a vector of scores of length n. Each entry reflects the priority \n",
    "    of the corresponding instance. Higher means better.\n",
    "    \"\"\"\n",
    "    # Creating a score array using random numbers of length of X \n",
    "    scores = np.random.randint(1,len(X),len(X))\n",
    "    return scores\n",
    "    "
   ]
  },
  {
   "cell_type": "code",
   "execution_count": 117,
   "metadata": {},
   "outputs": [],
   "source": [
    "def pool_based_active_learning(X_pool, y_pool, seed_ids,\n",
    "                               train_func, select_func,\n",
    "                               max_size, batch_size, **args):\n",
    "    \"\"\"\n",
    "    Perform an active learning simulation, which starts by training on a seed set,\n",
    "    then iteratively applies the selection function to rank instances in the pool,\n",
    "    selects the top few instances which are included into the training set and the\n",
    "    process repeats. \n",
    "        X_pool: matrix of n x d\n",
    "        y_pool: vector of string labels, size n\n",
    "        seed_ids: initial labelled set set, as a list of indices [0..n-1] into pool\n",
    "        train_func: function which given (X, y, optional args) returns a trained model\n",
    "        select_func: function which given (X, optional args) returns a sequence of scores\n",
    "        max_size: stopping condition for active learning, when labelled data reaches given size\n",
    "        batch_size: number of instances to be labelled in each iteration\n",
    "        args: optional arguments passed to training and selection function\n",
    "    returns the sequence of trained models \n",
    "    \"\"\"\n",
    "    performance_history=[]\n",
    "    seed = seed_ids\n",
    "    i = 0 \n",
    "    # 1: U = pool of unlabelled instances, {x} \n",
    "    U =  np.delete(X_pool,seed, axis=0)\n",
    "    # 2: L = set of initial labelled instances, {hx,yi} \n",
    "    L = [X_pool[seed],y_pool[seed]]   # L = (x,y)  \n",
    "    # 3: b = number of instances to label in each step \n",
    "    b =  batch\n",
    "\n",
    "    # 4: for t = 1,2,...,T do \n",
    "    #for i in range(1,46):  # Loop will run from 300 to 3000 Instances\n",
    "    while(len(seed) < max_size):\n",
    "        i+=1\n",
    "    # 5:  θ(t) = train(L) \n",
    "        Theta_model=train_func(L[0],L[1])\n",
    "   \n",
    "    # 6:  score all instances in pool, r = select(U) \n",
    "        r = select_func(U,Theta_model)\n",
    "    # 7:  for all j ∈ argmax(b,r) do \n",
    "        max_indices = np.argpartition(r,-b)[-b:]\n",
    "        for j in max_indices:\n",
    "    # 8:      reveal label y     \n",
    "    # 9:      add hxj,yji to L\n",
    "            L[0] = np.append(L[0],[X_pool[j]], axis=0)\n",
    "            L[1]= np.append(L[1],y_pool[j])\n",
    "            seed.append(j)\n",
    "    # 10:     remove xj from U \n",
    "            U = np.delete(X_pool,seed,axis=0)\n",
    "             #  Calculate and report our model's accuracy.                       \n",
    "    # 11:    end for \n",
    "    # 12: end for \n",
    "    # 13: return {θ(t)}T t=1\n",
    " #  Calculate and report our model's accuracy.\n",
    "        model_accuracy = evaluate_logistic_regression_accuracy(X_test,y_test,Theta_model)\n",
    "        print('Accuracy after query {n}: {acc:0.4f}'.format(n=i, acc=model_accuracy))\n",
    "    # Save our model's performance for plotting.\n",
    "        performance_history.append(model_accuracy)\n",
    "    \n",
    "    return Theta_model\n",
    "    ########################################## Not Part of Algo ########################\n",
    "    \n",
    "        \n",
    "     #  Calculate and report our model's accuracy.\n",
    "        #model_accuracy = evaluate_logistic_regression_accuracy(X_test,y_test,Theta_model)\n",
    "        #print('Accuracy after query {n}: {acc:0.4f}'.format(n=i + 1, acc=model_accuracy))\n",
    "    # # Save our model's performance for plotting.\n",
    "        #performance_history.append(model_accuracy)\n",
    "\n",
    "    ########################################## Not Part of Algo ########################\n"
   ]
  },
  {
   "cell_type": "code",
   "execution_count": 118,
   "metadata": {},
   "outputs": [
    {
     "output_type": "execute_result",
     "data": {
      "text/plain": [
       "3060"
      ]
     },
     "metadata": {},
     "execution_count": 118
    }
   ],
   "source": [
    "len(y_pool[seed_set])\n"
   ]
  },
  {
   "cell_type": "code",
   "execution_count": 116,
   "metadata": {},
   "outputs": [
    {
     "output_type": "stream",
     "name": "stderr",
     "text": [
      "C:\\Users\\Waqar\\Anaconda3\\lib\\site-packages\\sklearn\\linear_model\\logistic.py:947: ConvergenceWarning: lbfgs failed to converge. Increase the number of iterations.\n",
      "  \"of iterations.\", ConvergenceWarning)\n",
      "Training time: 0.8999893665313721s\n",
      "Accuracy after query 1: 0.3173\n",
      "C:\\Users\\Waqar\\Anaconda3\\lib\\site-packages\\sklearn\\linear_model\\logistic.py:947: ConvergenceWarning: lbfgs failed to converge. Increase the number of iterations.\n",
      "  \"of iterations.\", ConvergenceWarning)\n",
      "Training time: 0.8380026817321777s\n",
      "Accuracy after query 2: 0.3416\n",
      "C:\\Users\\Waqar\\Anaconda3\\lib\\site-packages\\sklearn\\linear_model\\logistic.py:947: ConvergenceWarning: lbfgs failed to converge. Increase the number of iterations.\n",
      "  \"of iterations.\", ConvergenceWarning)\n",
      "Training time: 0.8379945755004883s\n",
      "Accuracy after query 3: 0.3451\n",
      "C:\\Users\\Waqar\\Anaconda3\\lib\\site-packages\\sklearn\\linear_model\\logistic.py:947: ConvergenceWarning: lbfgs failed to converge. Increase the number of iterations.\n",
      "  \"of iterations.\", ConvergenceWarning)\n",
      "Training time: 0.8349981307983398s\n",
      "Accuracy after query 4: 0.3533\n",
      "C:\\Users\\Waqar\\Anaconda3\\lib\\site-packages\\sklearn\\linear_model\\logistic.py:947: ConvergenceWarning: lbfgs failed to converge. Increase the number of iterations.\n",
      "  \"of iterations.\", ConvergenceWarning)\n",
      "Training time: 0.9089350700378418s\n",
      "Accuracy after query 5: 0.3630\n",
      "C:\\Users\\Waqar\\Anaconda3\\lib\\site-packages\\sklearn\\linear_model\\logistic.py:947: ConvergenceWarning: lbfgs failed to converge. Increase the number of iterations.\n",
      "  \"of iterations.\", ConvergenceWarning)\n",
      "Training time: 0.8419992923736572s\n",
      "Accuracy after query 6: 0.3783\n",
      "C:\\Users\\Waqar\\Anaconda3\\lib\\site-packages\\sklearn\\linear_model\\logistic.py:947: ConvergenceWarning: lbfgs failed to converge. Increase the number of iterations.\n",
      "  \"of iterations.\", ConvergenceWarning)\n",
      "Training time: 0.9820003509521484s\n",
      "Accuracy after query 7: 0.3911\n",
      "C:\\Users\\Waqar\\Anaconda3\\lib\\site-packages\\sklearn\\linear_model\\logistic.py:947: ConvergenceWarning: lbfgs failed to converge. Increase the number of iterations.\n",
      "  \"of iterations.\", ConvergenceWarning)\n",
      "Training time: 0.9049923419952393s\n",
      "Accuracy after query 8: 0.3976\n",
      "C:\\Users\\Waqar\\Anaconda3\\lib\\site-packages\\sklearn\\linear_model\\logistic.py:947: ConvergenceWarning: lbfgs failed to converge. Increase the number of iterations.\n",
      "  \"of iterations.\", ConvergenceWarning)\n",
      "Training time: 0.9339945316314697s\n",
      "Accuracy after query 9: 0.4090\n",
      "C:\\Users\\Waqar\\Anaconda3\\lib\\site-packages\\sklearn\\linear_model\\logistic.py:947: ConvergenceWarning: lbfgs failed to converge. Increase the number of iterations.\n",
      "  \"of iterations.\", ConvergenceWarning)\n",
      "Training time: 1.0498418807983398s\n",
      "Accuracy after query 10: 0.4123\n",
      "C:\\Users\\Waqar\\Anaconda3\\lib\\site-packages\\sklearn\\linear_model\\logistic.py:947: ConvergenceWarning: lbfgs failed to converge. Increase the number of iterations.\n",
      "  \"of iterations.\", ConvergenceWarning)\n",
      "Training time: 0.9979960918426514s\n",
      "Accuracy after query 11: 0.4141\n",
      "C:\\Users\\Waqar\\Anaconda3\\lib\\site-packages\\sklearn\\linear_model\\logistic.py:947: ConvergenceWarning: lbfgs failed to converge. Increase the number of iterations.\n",
      "  \"of iterations.\", ConvergenceWarning)\n",
      "Training time: 1.0339622497558594s\n",
      "Accuracy after query 12: 0.4209\n",
      "C:\\Users\\Waqar\\Anaconda3\\lib\\site-packages\\sklearn\\linear_model\\logistic.py:947: ConvergenceWarning: lbfgs failed to converge. Increase the number of iterations.\n",
      "  \"of iterations.\", ConvergenceWarning)\n",
      "Training time: 1.0609748363494873s\n",
      "Accuracy after query 13: 0.4287\n",
      "C:\\Users\\Waqar\\Anaconda3\\lib\\site-packages\\sklearn\\linear_model\\logistic.py:947: ConvergenceWarning: lbfgs failed to converge. Increase the number of iterations.\n",
      "  \"of iterations.\", ConvergenceWarning)\n",
      "Training time: 1.0069983005523682s\n",
      "Accuracy after query 14: 0.4341\n",
      "C:\\Users\\Waqar\\Anaconda3\\lib\\site-packages\\sklearn\\linear_model\\logistic.py:947: ConvergenceWarning: lbfgs failed to converge. Increase the number of iterations.\n",
      "  \"of iterations.\", ConvergenceWarning)\n",
      "Training time: 1.111001968383789s\n",
      "Accuracy after query 15: 0.4400\n",
      "C:\\Users\\Waqar\\Anaconda3\\lib\\site-packages\\sklearn\\linear_model\\logistic.py:947: ConvergenceWarning: lbfgs failed to converge. Increase the number of iterations.\n",
      "  \"of iterations.\", ConvergenceWarning)\n",
      "Training time: 1.0579614639282227s\n",
      "Accuracy after query 16: 0.4399\n",
      "C:\\Users\\Waqar\\Anaconda3\\lib\\site-packages\\sklearn\\linear_model\\logistic.py:947: ConvergenceWarning: lbfgs failed to converge. Increase the number of iterations.\n",
      "  \"of iterations.\", ConvergenceWarning)\n",
      "Training time: 1.116997241973877s\n",
      "Accuracy after query 17: 0.4405\n",
      "C:\\Users\\Waqar\\Anaconda3\\lib\\site-packages\\sklearn\\linear_model\\logistic.py:947: ConvergenceWarning: lbfgs failed to converge. Increase the number of iterations.\n",
      "  \"of iterations.\", ConvergenceWarning)\n",
      "Training time: 1.2300033569335938s\n",
      "Accuracy after query 18: 0.4411\n",
      "C:\\Users\\Waqar\\Anaconda3\\lib\\site-packages\\sklearn\\linear_model\\logistic.py:947: ConvergenceWarning: lbfgs failed to converge. Increase the number of iterations.\n",
      "  \"of iterations.\", ConvergenceWarning)\n",
      "Training time: 1.2609505653381348s\n",
      "Accuracy after query 19: 0.4466\n",
      "C:\\Users\\Waqar\\Anaconda3\\lib\\site-packages\\sklearn\\linear_model\\logistic.py:947: ConvergenceWarning: lbfgs failed to converge. Increase the number of iterations.\n",
      "  \"of iterations.\", ConvergenceWarning)\n",
      "Training time: 1.2400009632110596s\n",
      "Accuracy after query 20: 0.4518\n",
      "C:\\Users\\Waqar\\Anaconda3\\lib\\site-packages\\sklearn\\linear_model\\logistic.py:947: ConvergenceWarning: lbfgs failed to converge. Increase the number of iterations.\n",
      "  \"of iterations.\", ConvergenceWarning)\n",
      "Training time: 1.2939996719360352s\n",
      "Accuracy after query 21: 0.4562\n",
      "C:\\Users\\Waqar\\Anaconda3\\lib\\site-packages\\sklearn\\linear_model\\logistic.py:947: ConvergenceWarning: lbfgs failed to converge. Increase the number of iterations.\n",
      "  \"of iterations.\", ConvergenceWarning)\n",
      "Training time: 1.281998634338379s\n",
      "Accuracy after query 22: 0.4605\n",
      "C:\\Users\\Waqar\\Anaconda3\\lib\\site-packages\\sklearn\\linear_model\\logistic.py:947: ConvergenceWarning: lbfgs failed to converge. Increase the number of iterations.\n",
      "  \"of iterations.\", ConvergenceWarning)\n",
      "Training time: 1.249953031539917s\n",
      "Accuracy after query 23: 0.4623\n",
      "C:\\Users\\Waqar\\Anaconda3\\lib\\site-packages\\sklearn\\linear_model\\logistic.py:947: ConvergenceWarning: lbfgs failed to converge. Increase the number of iterations.\n",
      "  \"of iterations.\", ConvergenceWarning)\n",
      "Training time: 1.3279953002929688s\n",
      "Accuracy after query 24: 0.4628\n",
      "C:\\Users\\Waqar\\Anaconda3\\lib\\site-packages\\sklearn\\linear_model\\logistic.py:947: ConvergenceWarning: lbfgs failed to converge. Increase the number of iterations.\n",
      "  \"of iterations.\", ConvergenceWarning)\n",
      "Training time: 1.282996654510498s\n",
      "Accuracy after query 25: 0.4633\n",
      "C:\\Users\\Waqar\\Anaconda3\\lib\\site-packages\\sklearn\\linear_model\\logistic.py:947: ConvergenceWarning: lbfgs failed to converge. Increase the number of iterations.\n",
      "  \"of iterations.\", ConvergenceWarning)\n",
      "Training time: 1.3589999675750732s\n",
      "Accuracy after query 26: 0.4686\n",
      "C:\\Users\\Waqar\\Anaconda3\\lib\\site-packages\\sklearn\\linear_model\\logistic.py:947: ConvergenceWarning: lbfgs failed to converge. Increase the number of iterations.\n",
      "  \"of iterations.\", ConvergenceWarning)\n",
      "Training time: 1.402949571609497s\n",
      "Accuracy after query 27: 0.4725\n",
      "C:\\Users\\Waqar\\Anaconda3\\lib\\site-packages\\sklearn\\linear_model\\logistic.py:947: ConvergenceWarning: lbfgs failed to converge. Increase the number of iterations.\n",
      "  \"of iterations.\", ConvergenceWarning)\n",
      "Training time: 1.3970885276794434s\n",
      "Accuracy after query 28: 0.4733\n",
      "C:\\Users\\Waqar\\Anaconda3\\lib\\site-packages\\sklearn\\linear_model\\logistic.py:947: ConvergenceWarning: lbfgs failed to converge. Increase the number of iterations.\n",
      "  \"of iterations.\", ConvergenceWarning)\n",
      "Training time: 2.7560031414031982s\n",
      "Accuracy after query 29: 0.4745\n",
      "C:\\Users\\Waqar\\Anaconda3\\lib\\site-packages\\sklearn\\linear_model\\logistic.py:947: ConvergenceWarning: lbfgs failed to converge. Increase the number of iterations.\n",
      "  \"of iterations.\", ConvergenceWarning)\n",
      "Training time: 3.0480027198791504s\n",
      "Accuracy after query 30: 0.4765\n",
      "C:\\Users\\Waqar\\Anaconda3\\lib\\site-packages\\sklearn\\linear_model\\logistic.py:947: ConvergenceWarning: lbfgs failed to converge. Increase the number of iterations.\n",
      "  \"of iterations.\", ConvergenceWarning)\n",
      "Training time: 4.551002264022827s\n",
      "Accuracy after query 31: 0.4774\n",
      "C:\\Users\\Waqar\\Anaconda3\\lib\\site-packages\\sklearn\\linear_model\\logistic.py:947: ConvergenceWarning: lbfgs failed to converge. Increase the number of iterations.\n",
      "  \"of iterations.\", ConvergenceWarning)\n",
      "Training time: 3.417977809906006s\n",
      "Accuracy after query 32: 0.4798\n",
      "C:\\Users\\Waqar\\Anaconda3\\lib\\site-packages\\sklearn\\linear_model\\logistic.py:947: ConvergenceWarning: lbfgs failed to converge. Increase the number of iterations.\n",
      "  \"of iterations.\", ConvergenceWarning)\n",
      "Training time: 5.808645248413086s\n",
      "Accuracy after query 33: 0.4785\n",
      "C:\\Users\\Waqar\\Anaconda3\\lib\\site-packages\\sklearn\\linear_model\\logistic.py:947: ConvergenceWarning: lbfgs failed to converge. Increase the number of iterations.\n",
      "  \"of iterations.\", ConvergenceWarning)\n",
      "Training time: 4.123739004135132s\n",
      "Accuracy after query 34: 0.4780\n",
      "C:\\Users\\Waqar\\Anaconda3\\lib\\site-packages\\sklearn\\linear_model\\logistic.py:947: ConvergenceWarning: lbfgs failed to converge. Increase the number of iterations.\n",
      "  \"of iterations.\", ConvergenceWarning)\n",
      "Training time: 1.8509421348571777s\n",
      "Accuracy after query 35: 0.4785\n",
      "C:\\Users\\Waqar\\Anaconda3\\lib\\site-packages\\sklearn\\linear_model\\logistic.py:947: ConvergenceWarning: lbfgs failed to converge. Increase the number of iterations.\n",
      "  \"of iterations.\", ConvergenceWarning)\n",
      "Training time: 1.9970061779022217s\n",
      "Accuracy after query 36: 0.4778\n",
      "C:\\Users\\Waqar\\Anaconda3\\lib\\site-packages\\sklearn\\linear_model\\logistic.py:947: ConvergenceWarning: lbfgs failed to converge. Increase the number of iterations.\n",
      "  \"of iterations.\", ConvergenceWarning)\n",
      "Training time: 3.02799654006958s\n",
      "Accuracy after query 37: 0.4811\n",
      "C:\\Users\\Waqar\\Anaconda3\\lib\\site-packages\\sklearn\\linear_model\\logistic.py:947: ConvergenceWarning: lbfgs failed to converge. Increase the number of iterations.\n",
      "  \"of iterations.\", ConvergenceWarning)\n",
      "Training time: 1.934953212738037s\n",
      "Accuracy after query 38: 0.4804\n",
      "C:\\Users\\Waqar\\Anaconda3\\lib\\site-packages\\sklearn\\linear_model\\logistic.py:947: ConvergenceWarning: lbfgs failed to converge. Increase the number of iterations.\n",
      "  \"of iterations.\", ConvergenceWarning)\n",
      "Training time: 2.027972459793091s\n",
      "Accuracy after query 39: 0.4824\n",
      "C:\\Users\\Waqar\\Anaconda3\\lib\\site-packages\\sklearn\\linear_model\\logistic.py:947: ConvergenceWarning: lbfgs failed to converge. Increase the number of iterations.\n",
      "  \"of iterations.\", ConvergenceWarning)\n",
      "Training time: 2.2039499282836914s\n",
      "Accuracy after query 40: 0.4835\n",
      "C:\\Users\\Waqar\\Anaconda3\\lib\\site-packages\\sklearn\\linear_model\\logistic.py:947: ConvergenceWarning: lbfgs failed to converge. Increase the number of iterations.\n",
      "  \"of iterations.\", ConvergenceWarning)\n",
      "Training time: 2.0769598484039307s\n",
      "Accuracy after query 41: 0.4862\n",
      "C:\\Users\\Waqar\\Anaconda3\\lib\\site-packages\\sklearn\\linear_model\\logistic.py:947: ConvergenceWarning: lbfgs failed to converge. Increase the number of iterations.\n",
      "  \"of iterations.\", ConvergenceWarning)\n",
      "Training time: 2.174955129623413s\n",
      "Accuracy after query 42: 0.4870\n",
      "C:\\Users\\Waqar\\Anaconda3\\lib\\site-packages\\sklearn\\linear_model\\logistic.py:947: ConvergenceWarning: lbfgs failed to converge. Increase the number of iterations.\n",
      "  \"of iterations.\", ConvergenceWarning)\n",
      "Training time: 2.622999668121338s\n",
      "Accuracy after query 43: 0.4914\n",
      "C:\\Users\\Waqar\\Anaconda3\\lib\\site-packages\\sklearn\\linear_model\\logistic.py:947: ConvergenceWarning: lbfgs failed to converge. Increase the number of iterations.\n",
      "  \"of iterations.\", ConvergenceWarning)\n",
      "Training time: 2.3369696140289307s\n",
      "Accuracy after query 44: 0.4930\n",
      "C:\\Users\\Waqar\\Anaconda3\\lib\\site-packages\\sklearn\\linear_model\\logistic.py:947: ConvergenceWarning: lbfgs failed to converge. Increase the number of iterations.\n",
      "  \"of iterations.\", ConvergenceWarning)\n",
      "Training time: 2.5330073833465576s\n",
      "Accuracy after query 45: 0.4951\n",
      "C:\\Users\\Waqar\\Anaconda3\\lib\\site-packages\\sklearn\\linear_model\\logistic.py:947: ConvergenceWarning: lbfgs failed to converge. Increase the number of iterations.\n",
      "  \"of iterations.\", ConvergenceWarning)\n",
      "Training time: 2.207998752593994s\n",
      "Accuracy after query 46: 0.4949\n"
     ]
    }
   ],
   "source": [
    "batch = 60\n",
    "max_size = 3000\n",
    "models_random = pool_based_active_learning(X_pool, y_pool, seed_set, \n",
    "                                    train_logistic_regression, random_select, \n",
    "                                    max_size, batch)"
   ]
  },
  {
   "cell_type": "code",
   "execution_count": 91,
   "metadata": {},
   "outputs": [
    {
     "output_type": "execute_result",
     "data": {
      "text/plain": [
       "2940"
      ]
     },
     "metadata": {},
     "execution_count": 91
    }
   ],
   "source": [
    "len(seed_set)"
   ]
  },
  {
   "cell_type": "code",
   "execution_count": null,
   "metadata": {},
   "outputs": [],
   "source": [
    "## your code here for evaluation of accuracy and plotting of results\n",
    "\n",
    "# NOTE: Make Graphs and Check Evaluation Scores"
   ]
  },
  {
   "cell_type": "markdown",
   "metadata": {},
   "source": [
    "## 3. Uncertainty sampling"
   ]
  },
  {
   "cell_type": "code",
   "execution_count": null,
   "metadata": {},
   "outputs": [],
   "source": [
    "def logistic_regression_entropy_select(X, model, **args):\n",
    "    \"\"\"\n",
    "    Given an unlabelled dataset X, a matrix of n x d, and a discriminative model \n",
    "    P(y|x), returns a vector of n entropy values.\n",
    "    \"\"\"\n",
    "    # fill in\n",
    "    print(\"X Shape\",X.shape)\n",
    "    from scipy.stats import entropy\n",
    "    #prob = model.predict_proba(X)   # paper has log \n",
    "    prob = model.predict_proba(X)\n",
    "    #ar = prob.to_numpy()\n",
    "    #print(ar.shape\n",
    "    ent  = entropy(prob,axis=1,base=10)\n",
    "    print(\"Ent shape \",ent.shape)\n",
    "    print(ent)\n",
    "    return ent\n",
    "    #return ent.argmax()\n",
    "    "
   ]
  },
  {
   "cell_type": "code",
   "execution_count": null,
   "metadata": {},
   "outputs": [],
   "source": [
    "len(seed_set)\n",
    "print(X_pool.shape)\n",
    "print(y_pool.shape)"
   ]
  },
  {
   "cell_type": "code",
   "execution_count": null,
   "metadata": {
    "scrolled": false
   },
   "outputs": [],
   "source": [
    "models_us = pool_based_active_learning(X_pool, y_pool, seed_set, \n",
    "                                 train_logistic_regression, \n",
    "                                 logistic_regression_entropy_select, \n",
    "                                 max_size, batch)"
   ]
  },
  {
   "cell_type": "code",
   "execution_count": null,
   "metadata": {},
   "outputs": [],
   "source": [
    "## your code here for evaluation of accuracy and plotting of results\n"
   ]
  },
  {
   "cell_type": "markdown",
   "metadata": {},
   "source": [
    "## 4. Query by committee"
   ]
  },
  {
   "cell_type": "code",
   "execution_count": null,
   "metadata": {},
   "outputs": [],
   "source": [
    "# don't forget to provide function descriptive comments, like those provided in templates above\n",
    "\n",
    "def query_by_committee_vote_entropy(X, model, **args):\n",
    "    pass\n",
    "\n",
    "def query_by_committee_soft_vote_entropy(X, model, **args):\n",
    "    pass\n",
    "\n",
    "def query_by_committee_KL(X, model, **args):\n",
    "    pass"
   ]
  },
  {
   "cell_type": "code",
   "execution_count": null,
   "metadata": {},
   "outputs": [],
   "source": [
    "def train_committee(X, y, **args):\n",
    "    pass"
   ]
  },
  {
   "cell_type": "code",
   "execution_count": null,
   "metadata": {},
   "outputs": [],
   "source": [
    "## your code here for training, evaluation, and plotting code"
   ]
  },
  {
   "cell_type": "markdown",
   "metadata": {},
   "source": [
    "## 5. Hierarchical sampling"
   ]
  },
  {
   "cell_type": "code",
   "execution_count": null,
   "metadata": {},
   "outputs": [],
   "source": [
    "## your code"
   ]
  }
 ],
 "metadata": {
  "kernelspec": {
   "name": "python373jvsc74a57bd0256f07a8d45e51611e1e8537f469d6b971ad84699aa9c6eac7ffc833e5f43f4b",
   "display_name": "Python 3.7.3 64-bit ('base': conda)"
  },
  "language_info": {
   "codemirror_mode": {
    "name": "ipython",
    "version": 3
   },
   "file_extension": ".py",
   "mimetype": "text/x-python",
   "name": "python",
   "nbconvert_exporter": "python",
   "pygments_lexer": "ipython3",
   "version": "3.7.3"
  }
 },
 "nbformat": 4,
 "nbformat_minor": 5
}