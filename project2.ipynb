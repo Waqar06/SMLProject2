{
 "cells": [
  {
   "cell_type": "markdown",
   "id": "wooden-renaissance",
   "metadata": {},
   "source": [
    "# COMP90051 Project 2\n",
    "**Name:** *enter your name here*\n",
    "\n",
    "**Student ID:** *your id here*"
   ]
  },
  {
   "cell_type": "code",
   "execution_count": null,
   "id": "iraqi-recommendation",
   "metadata": {},
   "outputs": [],
   "source": [
    "# You can add additional imports here\n",
    "import numpy as np\n",
    "from matplotlib import pyplot as plt\n",
    "import os\n",
    "import random\n",
    "from sklearn.model_selection import train_test_split\n",
    "from collections import defaultdict"
   ]
  },
  {
   "cell_type": "markdown",
   "id": "defined-great",
   "metadata": {},
   "source": [
    "## 0. Loading the dataset"
   ]
  },
  {
   "cell_type": "code",
   "execution_count": null,
   "id": "concerned-vessel",
   "metadata": {},
   "outputs": [],
   "source": [
    "# do not edit this cell\n",
    "# load the data files (download from the LMS)\n",
    "embedded_images = np.load('images.npy')\n",
    "labels = np.load('labels.npy')\n",
    "\n",
    "# split into pool & testing\n",
    "X_pool, X_test, y_pool, y_test = train_test_split(embedded_images, labels, \n",
    "                                                  test_size=0.5, random_state=1234, shuffle=True)\n",
    "\n",
    "# sample a seed set\n",
    "np.random.seed(1234)\n",
    "label2id = defaultdict(list)\n",
    "for i, label in enumerate(y_pool):\n",
    "    label2id[label].append(i)\n",
    "seed_set = []\n",
    "for label, ids in label2id.items():\n",
    "    seed_set.extend(np.random.choice(ids, size=10, replace=False))"
   ]
  },
  {
   "cell_type": "markdown",
   "id": "naval-income",
   "metadata": {},
   "source": [
    "## 1. Applying logistic regression"
   ]
  },
  {
   "cell_type": "code",
   "execution_count": null,
   "id": "palestinian-preparation",
   "metadata": {},
   "outputs": [],
   "source": [
    "def train_logistic_regression(X, y, **args):\n",
    "    \"\"\"\n",
    "    Train a logistic regression model on dataset (X, y) and return trained model.\n",
    "    X: matrix of real values, size n x d\n",
    "    y: vector of string labels, size n\n",
    "    args: optional arguments e.g., for hyper-parameters\n",
    "    \"\"\"\n",
    "    # your code here\n",
    "    pass"
   ]
  },
  {
   "cell_type": "code",
   "execution_count": null,
   "id": "bored-alberta",
   "metadata": {},
   "outputs": [],
   "source": [
    "def evaluate_logistic_regression_accuracy(Xt, yt, model):\n",
    "    \"\"\"\n",
    "    Apply logistic regression prediction on dataset Xt and evaluate accuracy against yt,\n",
    "    returing the accuracy results as a scalar.\n",
    "    Xt: matrix of real values, size m x d\n",
    "    yt: vector of string labels, size m\n",
    "    \"\"\"\n",
    "    # your code here\n",
    "    pass"
   ]
  },
  {
   "cell_type": "code",
   "execution_count": null,
   "id": "whole-grenada",
   "metadata": {},
   "outputs": [],
   "source": [
    "# your code here for training, evaluating & plotting results"
   ]
  },
  {
   "cell_type": "markdown",
   "id": "sweet-elephant",
   "metadata": {},
   "source": [
    "## 2. Active learning framework with Random selection"
   ]
  },
  {
   "cell_type": "code",
   "execution_count": null,
   "id": "ignored-compromise",
   "metadata": {},
   "outputs": [],
   "source": [
    "def random_select(X, model, **args):\n",
    "    \"\"\"\n",
    "    Given an unlabelled dataset X, a matrix of n x d, and a model (not used)\n",
    "    returns a vector of scores of length n. Each entry reflects the priority \n",
    "    of the corresponding instance. Higher means better.\n",
    "    \"\"\"\n",
    "    # fill in\n",
    "    pass"
   ]
  },
  {
   "cell_type": "code",
   "execution_count": null,
   "id": "lyric-constraint",
   "metadata": {},
   "outputs": [],
   "source": [
    "def pool_based_active_learning(X_pool, y_pool, seed_ids,\n",
    "                               train_func, select_func,\n",
    "                               max_size, batch_size, **args):\n",
    "    \"\"\"\n",
    "    Perform an active learning simulation, which starts by training on a seed set,\n",
    "    then iteratively applies the selection function to rank instances in the pool,\n",
    "    selects the top few instances which are included into the training set and the\n",
    "    process repeats. \n",
    "        X_pool: matrix of n x d\n",
    "        y_pool: vector of string labels, size n\n",
    "        seed_ids: initial labelled set set, as a list of indices [0..n-1] into pool\n",
    "        train_func: function which given (X, y, optional args) returns a trained model\n",
    "        select_func: function which given (X, optional args) returns a sequence of scores\n",
    "        max_size: stopping condition for active learning, when labelled data reaches given size\n",
    "        batch_size: number of instances to be labelled in each iteration\n",
    "        args: optional arguments passed to training and selection function\n",
    "    returns the sequence of trained models \n",
    "    \"\"\"\n",
    "  \n",
    "    # fill in\n",
    "    pass"
   ]
  },
  {
   "cell_type": "code",
   "execution_count": null,
   "id": "technical-edgar",
   "metadata": {},
   "outputs": [],
   "source": [
    "batch = 60\n",
    "max_size = 3000\n",
    "models_random = pool_based_active_learning(X_pool, y_pool, seed_set, \n",
    "                                    train_logistic_regression, random_select, \n",
    "                                    max_size, batch)"
   ]
  },
  {
   "cell_type": "code",
   "execution_count": null,
   "id": "complicated-allergy",
   "metadata": {},
   "outputs": [],
   "source": [
    "## your code here for evaluation of accuracy and plotting of results"
   ]
  },
  {
   "cell_type": "markdown",
   "id": "numerical-novel",
   "metadata": {},
   "source": [
    "## 3. Uncertainty sampling"
   ]
  },
  {
   "cell_type": "code",
   "execution_count": null,
   "id": "raised-mistress",
   "metadata": {},
   "outputs": [],
   "source": [
    "def logistic_regression_entropy_select(X, model, **args):\n",
    "    \"\"\"\n",
    "    Given an unlabelled dataset X, a matrix of n x d, and a discriminative model \n",
    "    P(y|x), returns a vector of n entropy values.\n",
    "    \"\"\"\n",
    "    # fill in\n",
    "    pass"
   ]
  },
  {
   "cell_type": "code",
   "execution_count": null,
   "id": "affected-story",
   "metadata": {
    "scrolled": false
   },
   "outputs": [],
   "source": [
    "models_us = pool_based_active_learning(X_pool, y_pool, seed_set, \n",
    "                                 train_logistic_regression, \n",
    "                                 logistic_regression_entropy_select, \n",
    "                                 max_size, batch)"
   ]
  },
  {
   "cell_type": "code",
   "execution_count": null,
   "id": "optical-mount",
   "metadata": {},
   "outputs": [],
   "source": [
    "## your code here for evaluation of accuracy and plotting of results"
   ]
  },
  {
   "cell_type": "markdown",
   "id": "diverse-taxation",
   "metadata": {},
   "source": [
    "## 4. Query by committee"
   ]
  },
  {
   "cell_type": "code",
   "execution_count": null,
   "id": "handy-water",
   "metadata": {},
   "outputs": [],
   "source": [
    "# don't forget to provide function descriptive comments, like those provided in templates above\n",
    "\n",
    "def query_by_committee_vote_entropy(X, model, **args):\n",
    "    pass\n",
    "\n",
    "def query_by_committee_soft_vote_entropy(X, model, **args):\n",
    "    pass\n",
    "\n",
    "def query_by_committee_KL(X, model, **args):\n",
    "    pass"
   ]
  },
  {
   "cell_type": "code",
   "execution_count": null,
   "id": "continued-clothing",
   "metadata": {},
   "outputs": [],
   "source": [
    "def train_committee(X, y, **args):\n",
    "    pass"
   ]
  },
  {
   "cell_type": "code",
   "execution_count": null,
   "id": "south-smooth",
   "metadata": {},
   "outputs": [],
   "source": [
    "## your code here for training, evaluation, and plotting code"
   ]
  },
  {
   "cell_type": "markdown",
   "id": "suffering-airport",
   "metadata": {},
   "source": [
    "## 5. Hierarchical sampling"
   ]
  },
  {
   "cell_type": "code",
   "execution_count": 1,
   "id": "adopted-taylor",
   "metadata": {},
   "outputs": [],
   "source": [
    "## your code"
   ]
  }
 ],
 "metadata": {
  "kernelspec": {
   "display_name": "Python 3",
   "language": "python",
   "name": "python3"
  },
  "language_info": {
   "codemirror_mode": {
    "name": "ipython",
    "version": 3
   },
   "file_extension": ".py",
   "mimetype": "text/x-python",
   "name": "python",
   "nbconvert_exporter": "python",
   "pygments_lexer": "ipython3",
   "version": "3.9.0"
  }
 },
 "nbformat": 4,
 "nbformat_minor": 5
}
